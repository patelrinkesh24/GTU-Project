{
 "cells": [
  {
   "cell_type": "markdown",
   "metadata": {},
   "source": [
    "# All the imports that is used for code"
   ]
  },
  {
   "cell_type": "markdown",
   "metadata": {},
   "source": [
    "### tensorflow (real time object detection)\n",
    "### os(path to system files)\n",
    "### numpy(used for mathematical calculations)\n",
    "### tarfile(used for compressed file in for of tar)\n",
    "### zipfile(used for compressed file in zip file format)\n",
    "### pyttsx3(a module used for conversion of text to speech)"
   ]
  },
  {
   "cell_type": "code",
   "execution_count": 1,
   "metadata": {
    "scrolled": true
   },
   "outputs": [],
   "source": [
    "import numpy as np\n",
    "import os\n",
    "import six.moves.urllib as urllib\n",
    "import sys\n",
    "import tarfile\n",
    "import tensorflow as tf\n",
    "import zipfile\n",
    "import pyttsx3"
   ]
  },
  {
   "cell_type": "markdown",
   "metadata": {},
   "source": [
    "### To import all the files from cloned directory of tensorflow available on internet"
   ]
  },
  {
   "cell_type": "code",
   "execution_count": 2,
   "metadata": {},
   "outputs": [],
   "source": [
    "from collections import defaultdict\n",
    "from io import StringIO\n",
    "from matplotlib import pyplot as plt\n",
    "from PIL import Image\n",
    "\n",
    "\n",
    "from utils import visualization_utils as vis_util\n",
    "from utils import label_map_util\n"
   ]
  },
  {
   "cell_type": "markdown",
   "metadata": {},
   "source": [
    "## Here the code initializes the engine instance for speech synthesis \n",
    "#### Some properties is changed for changing voice from default to selected one"
   ]
  },
  {
   "cell_type": "code",
   "execution_count": 3,
   "metadata": {},
   "outputs": [],
   "source": [
    "# init function to get an engine instance for the speech synthesis  \n",
    "engine = pyttsx3.init()\n",
    "\n",
    "\n",
    "# Set properties _before_ you add things to say\n",
    "#engine.setProperty('rate', 150)    # Speed percent (can go over 100)\n",
    "#engine.setProperty('volume', 0.9)  # Volume 0-1\n",
    "engine = pyttsx3.init('sapi5')\n",
    "voices = engine.getProperty('voices')\n",
    "#print(voices[0].id) # type of voices\n",
    "engine.setProperty('voice',voices[1].id)\n"
   ]
  },
  {
   "cell_type": "markdown",
   "metadata": {},
   "source": [
    "# Model Prepration\n",
    "#### SSD with mobilenet model is used available from github which is able to identify nearly 80 objects. Made by Microsoft COCOAPI. It just indicates which model to download actual model is not downloaded by this code"
   ]
  },
  {
   "cell_type": "code",
   "execution_count": 4,
   "metadata": {},
   "outputs": [],
   "source": [
    "# # Model preparation \n",
    "# Any model exported using the `export_inference_graph.py` tool can be loaded here simply by changing `PATH_TO_CKPT` to point to a new .pb file.  \n",
    "# By default we use an \"SSD with Mobilenet\" model here. See the [detection model zoo](https://github.com/tensorflow/models/blob/master/object_detection/g3doc/detection_model_zoo.md) for a list of other models that can be run out-of-the-box with varying speeds and accuracies.\n",
    "\n",
    "# What model to download.\n",
    "MODEL_NAME = 'ssd_mobilenet_v1_coco_11_06_2017'\n",
    "MODEL_FILE = MODEL_NAME + '.tar.gz'\n",
    "DOWNLOAD_BASE = 'http://download.tensorflow.org/models/object_detection/'"
   ]
  },
  {
   "cell_type": "markdown",
   "metadata": {},
   "source": [
    "# Path to frozen detection graph. This is the actual model that is used for the object detection."
   ]
  },
  {
   "cell_type": "code",
   "execution_count": 5,
   "metadata": {},
   "outputs": [],
   "source": [
    "PATH_TO_CKPT = MODEL_NAME + '/frozen_inference_graph.pb'"
   ]
  },
  {
   "cell_type": "markdown",
   "metadata": {},
   "source": [
    "# List of the strings that is used to add correct label for each box."
   ]
  },
  {
   "cell_type": "code",
   "execution_count": 6,
   "metadata": {},
   "outputs": [],
   "source": [
    "PATH_TO_LABELS = os.path.join('data', 'mscoco_label_map.pbtxt')\n",
    "NUM_CLASSES = 90"
   ]
  },
  {
   "cell_type": "markdown",
   "metadata": {},
   "source": [
    "# To download the model specified "
   ]
  },
  {
   "cell_type": "code",
   "execution_count": 7,
   "metadata": {},
   "outputs": [
    {
     "name": "stdout",
     "output_type": "stream",
     "text": [
      "\n",
      "Model already exists\n",
      "\n",
      "Webcam starting...\n"
     ]
    }
   ],
   "source": [
    "# ## Download Model\n",
    "\n",
    "if not os.path.exists(MODEL_NAME + '/frozen_inference_graph.pb'):\n",
    "    print ('Downloading the model')\n",
    "    opener = urllib.request.URLopener()\n",
    "    opener.retrieve(DOWNLOAD_BASE + MODEL_FILE, MODEL_FILE)\n",
    "    tar_file = tarfile.open(MODEL_FILE)\n",
    "    for file in tar_file.getmembers():\n",
    "        file_name = os.path.basename(file.name)\n",
    "        if 'frozen_inference_graph.pb' in file_name:\n",
    "            tar_file.extract(file, os.getcwd())\n",
    "    print ('Download complete')\n",
    "else:\n",
    "    print ('\\nModel already exists\\n\\nWebcam starting...')\n"
   ]
  },
  {
   "cell_type": "markdown",
   "metadata": {},
   "source": []
  },
  {
   "cell_type": "code",
   "execution_count": 8,
   "metadata": {},
   "outputs": [],
   "source": [
    "detection_graph = tf.Graph()\n",
    "with detection_graph.as_default():\n",
    "    od_graph_def = tf.GraphDef()\n",
    "    with tf.gfile.GFile(PATH_TO_CKPT, 'rb') as fid:\n",
    "        serialized_graph = fid.read()\n",
    "        od_graph_def.ParseFromString(serialized_graph)\n",
    "        tf.import_graph_def(od_graph_def, name='')"
   ]
  },
  {
   "cell_type": "markdown",
   "metadata": {},
   "source": [
    "# Loading label map\n",
    "### Label maps map indices to category names, so that when our convolution network predicts `5`, we know that this corresponds to `airplane`.  Here we use internal utility functions, but anything that returns a dictionary mapping integers to appropriate string labels would be fine\n"
   ]
  },
  {
   "cell_type": "code",
   "execution_count": 9,
   "metadata": {},
   "outputs": [
    {
     "name": "stdout",
     "output_type": "stream",
     "text": [
      "WARNING:tensorflow:From C:\\Users\\Rinkesh\\Desktop\\8sem\\Project-phase-2\\PMMS\\models\\research\\object_detection\\utils\\label_map_util.py:138: The name tf.gfile.GFile is deprecated. Please use tf.io.gfile.GFile instead.\n",
      "\n"
     ]
    }
   ],
   "source": [
    "label_map = label_map_util.load_labelmap(PATH_TO_LABELS)\n",
    "categories = label_map_util.convert_label_map_to_categories(label_map, max_num_classes=NUM_CLASSES, use_display_name=True)\n",
    "category_index = label_map_util.create_category_index(categories)"
   ]
  },
  {
   "cell_type": "markdown",
   "metadata": {},
   "source": [
    "# Actual working of the code\n",
    "## All the part of detecting objects printing it and converting it into text is done by using above imports"
   ]
  },
  {
   "cell_type": "code",
   "execution_count": null,
   "metadata": {},
   "outputs": [
    {
     "name": "stdout",
     "output_type": "stream",
     "text": [
      "[]\n",
      "['person', 'person']\n",
      "['person', 'person']\n",
      "['person', 'person']\n",
      "['person', 'person']\n",
      "['person']\n",
      "['person']\n",
      "['person']\n",
      "['person', 'person']\n",
      "['person', 'person', 'cell phone']\n",
      "['person']\n",
      "['person']\n",
      "['person', 'person']\n",
      "['person', 'person']\n",
      "['person', 'person']\n",
      "['person', 'person']\n",
      "['person', 'person']\n",
      "['person', 'person']\n",
      "['person', 'person']\n",
      "['person', 'person']\n",
      "['person', 'person']\n",
      "['person', 'person']\n",
      "['person', 'person']\n",
      "['person', 'person']\n",
      "['person']\n",
      "['person', 'person']\n",
      "['person', 'person']\n",
      "['person', 'person']\n",
      "['person', 'person']\n",
      "['person']\n",
      "['person', 'person']\n",
      "['person']\n",
      "['person', 'person']\n",
      "['person', 'person']\n",
      "['person', 'person']\n",
      "['person']\n",
      "['person', 'person']\n",
      "['person', 'person']\n",
      "['person', 'person']\n",
      "['person', 'person']\n",
      "['person', 'person']\n",
      "['person', 'person']\n",
      "['person', 'person']\n",
      "['person', 'person']\n",
      "['person', 'person']\n"
     ]
    },
    {
     "name": "stderr",
     "output_type": "stream",
     "text": [
      "Exception ignored in: <function BSTR.__del__ at 0x000001B3153A3AE8>\n",
      "Traceback (most recent call last):\n",
      "  File \"C:\\Users\\Rinkesh\\Anaconda3\\lib\\site-packages\\comtypes\\__init__.py\", line 1005, in __del__\n",
      "    def __del__(self, _free=windll.oleaut32.SysFreeString):\n",
      "KeyboardInterrupt\n"
     ]
    },
    {
     "name": "stdout",
     "output_type": "stream",
     "text": [
      "['person', 'person']\n",
      "['person', 'person']\n",
      "['person', 'person']\n",
      "['person', 'person']\n",
      "['person']\n",
      "['person']\n",
      "['person']\n",
      "['person']\n",
      "['person']\n",
      "['person']\n",
      "['person']\n",
      "['person']\n",
      "['person']\n",
      "['person']\n",
      "['person']\n",
      "['person']\n",
      "['person']\n",
      "['person']\n",
      "['person']\n",
      "['person']\n"
     ]
    }
   ],
   "source": [
    "import cv2\n",
    "cap = cv2.VideoCapture(0)\n",
    "engine.say(\"Welcome to Blind Assistance Recognitor and Visionary\")\n",
    "engine.runAndWait()\n",
    "# Running the tensorflow session\n",
    "with detection_graph.as_default():\n",
    "  with tf.Session(graph=detection_graph) as sess:\n",
    "   ret = True\n",
    "   while (ret):\n",
    "      ret,image_np = cap.read()\n",
    "      # Expand dimensions since the model expects images to have shape: [1, None, None, 3]\n",
    "      image_np_expanded = np.expand_dims(image_np, axis=0)\n",
    "      image_tensor = detection_graph.get_tensor_by_name('image_tensor:0')\n",
    "      # Each box represents a part of the image where a particular object was detected.\n",
    "      boxes = detection_graph.get_tensor_by_name('detection_boxes:0')\n",
    "      # Each score represent how level of confidence for each of the objects.\n",
    "      # Score is shown on the result image, together with the class label.\n",
    "      scores = detection_graph.get_tensor_by_name('detection_scores:0')\n",
    "      classes = detection_graph.get_tensor_by_name('detection_classes:0')\n",
    "      #print(classes)\n",
    "      num_detections = detection_graph.get_tensor_by_name('num_detections:0')\n",
    "      # Actual detection.\n",
    "      (boxes, scores, classes, num_detections) = sess.run(\n",
    "          [boxes, scores, classes, num_detections],\n",
    "          feed_dict={image_tensor: image_np_expanded})\n",
    "      #print ([category_index.get(value) for index,value in enumerate(classes[0]) if scores[0,index] > 0.5])\n",
    "\n",
    "      #print([category_index.get(value).get('name') for index,value in enumerate(classes[0]) if scores[0,index] > 0.5])\n",
    "#==============================================================================================================================#\n",
    "# ================================ Code for printing and converting it into text ============================================= #\n",
    "#==============================================================================================================================#\n",
    "      name = ([category_index.get(value).get('name') for index,value in enumerate(classes[0]) if scores[0,index] > 0.5])\n",
    "      print(name)\n",
    "      engine.say(name)\n",
    "      engine.runAndWait()\n",
    "#==============================================================================================================================#\n",
    "\n",
    "#==============================================================================================================================#\n",
    "      # Visualization of the results of a detection.\n",
    "      vis_util.visualize_boxes_and_labels_on_image_array(\n",
    "          image_np,\n",
    "          np.squeeze(boxes),\n",
    "          np.squeeze(classes).astype(np.int32),\n",
    "          np.squeeze(scores),\n",
    "          category_index,\n",
    "          use_normalized_coordinates=True,\n",
    "          line_thickness=8)\n",
    "#      plt.figure(figsize=IMAGE_SIZE)\n",
    "#      plt.imshow(image_np)\n",
    "      cv2.imshow('image',cv2.resize(image_np,(1366,768)))\n",
    "      #cv2.imshow('image',cv2.resize(image_np,(1024,512))) \n",
    "      if cv2.waitKey(25) & 0xFF == ord('q'):\n",
    "          cv2.destroyAllWindows()\n",
    "          cap.release()\n",
    "          print(\"\\nHope You Liked it!\")\n",
    "          engine.say(\"Hope you liked it sir\")\n",
    "          engine.say(\"Code by :- Rinkesh, Meet and Dev\")\n",
    "          engine.runAndWait()\n",
    "          break\n",
    "#intializing the web camera device\n"
   ]
  },
  {
   "cell_type": "code",
   "execution_count": null,
   "metadata": {},
   "outputs": [],
   "source": []
  }
 ],
 "metadata": {
  "kernelspec": {
   "display_name": "Python 3",
   "language": "python",
   "name": "python3"
  },
  "language_info": {
   "codemirror_mode": {
    "name": "ipython",
    "version": 3
   },
   "file_extension": ".py",
   "mimetype": "text/x-python",
   "name": "python",
   "nbconvert_exporter": "python",
   "pygments_lexer": "ipython3",
   "version": "3.7.3"
  }
 },
 "nbformat": 4,
 "nbformat_minor": 2
}
